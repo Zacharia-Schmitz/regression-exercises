{
 "cells": [
  {
   "cell_type": "markdown",
   "metadata": {},
   "source": [
    "# Exercise (Feature Engineering)"
   ]
  },
  {
   "cell_type": "markdown",
   "metadata": {},
   "source": [
    "Do your work for this exercise in a jupyter notebook named feature_engineering within the regression-exercises repo. Add, commit, and push your work."
   ]
  },
  {
   "cell_type": "markdown",
   "metadata": {},
   "source": [
    "## 1. \n",
    "\n",
    "Load the tips dataset.\n",
    "\n"
   ]
  },
  {
   "cell_type": "code",
   "execution_count": 2,
   "metadata": {},
   "outputs": [],
   "source": [
    "import pandas as pd\n",
    "import numpy as np\n",
    "import seaborn as sns\n",
    "from wrangle import check_columns\n",
    "from prepare import standard_scaler, min_max_scaler\n",
    "from sklearn.preprocessing import OneHotEncoder\n",
    "from sklearn.linear_model import LinearRegression\n",
    "from sklearn.feature_selection import RFE"
   ]
  },
  {
   "cell_type": "code",
   "execution_count": 3,
   "metadata": {},
   "outputs": [
    {
     "data": {
      "text/html": [
       "<div>\n",
       "<style scoped>\n",
       "    .dataframe tbody tr th:only-of-type {\n",
       "        vertical-align: middle;\n",
       "    }\n",
       "\n",
       "    .dataframe tbody tr th {\n",
       "        vertical-align: top;\n",
       "    }\n",
       "\n",
       "    .dataframe thead th {\n",
       "        text-align: right;\n",
       "    }\n",
       "</style>\n",
       "<table border=\"1\" class=\"dataframe\">\n",
       "  <thead>\n",
       "    <tr style=\"text-align: right;\">\n",
       "      <th></th>\n",
       "      <th>Column Name</th>\n",
       "      <th>Number of Unique Values</th>\n",
       "      <th>Unique Values</th>\n",
       "      <th>Number of Null Values</th>\n",
       "      <th>Proportion of Null Values</th>\n",
       "      <th>dtype</th>\n",
       "    </tr>\n",
       "  </thead>\n",
       "  <tbody>\n",
       "    <tr>\n",
       "      <th>0</th>\n",
       "      <td>total_bill</td>\n",
       "      <td>229</td>\n",
       "      <td>[16.99, 10.34, 21.01, 23.68, 24.59, 25.29, 8.7...</td>\n",
       "      <td>0</td>\n",
       "      <td>0.0</td>\n",
       "      <td>float64</td>\n",
       "    </tr>\n",
       "    <tr>\n",
       "      <th>1</th>\n",
       "      <td>tip</td>\n",
       "      <td>123</td>\n",
       "      <td>[1.01, 1.66, 3.5, 3.31, 3.61, 4.71, 2.0, 3.12,...</td>\n",
       "      <td>0</td>\n",
       "      <td>0.0</td>\n",
       "      <td>float64</td>\n",
       "    </tr>\n",
       "    <tr>\n",
       "      <th>2</th>\n",
       "      <td>sex</td>\n",
       "      <td>2</td>\n",
       "      <td>['Female', 'Male']\n",
       "Categories (2, object): ['M...</td>\n",
       "      <td>0</td>\n",
       "      <td>0.0</td>\n",
       "      <td>category</td>\n",
       "    </tr>\n",
       "    <tr>\n",
       "      <th>3</th>\n",
       "      <td>smoker</td>\n",
       "      <td>2</td>\n",
       "      <td>['No', 'Yes']\n",
       "Categories (2, object): ['Yes', ...</td>\n",
       "      <td>0</td>\n",
       "      <td>0.0</td>\n",
       "      <td>category</td>\n",
       "    </tr>\n",
       "    <tr>\n",
       "      <th>4</th>\n",
       "      <td>day</td>\n",
       "      <td>4</td>\n",
       "      <td>['Sun', 'Sat', 'Thur', 'Fri']\n",
       "Categories (4, o...</td>\n",
       "      <td>0</td>\n",
       "      <td>0.0</td>\n",
       "      <td>category</td>\n",
       "    </tr>\n",
       "    <tr>\n",
       "      <th>5</th>\n",
       "      <td>time</td>\n",
       "      <td>2</td>\n",
       "      <td>['Dinner', 'Lunch']\n",
       "Categories (2, object): ['...</td>\n",
       "      <td>0</td>\n",
       "      <td>0.0</td>\n",
       "      <td>category</td>\n",
       "    </tr>\n",
       "    <tr>\n",
       "      <th>6</th>\n",
       "      <td>size</td>\n",
       "      <td>6</td>\n",
       "      <td>[2, 3, 4, 1, 6, 5]</td>\n",
       "      <td>0</td>\n",
       "      <td>0.0</td>\n",
       "      <td>int64</td>\n",
       "    </tr>\n",
       "  </tbody>\n",
       "</table>\n",
       "</div>"
      ],
      "text/plain": [
       "  Column Name  Number of Unique Values  \\\n",
       "0  total_bill                      229   \n",
       "1         tip                      123   \n",
       "2         sex                        2   \n",
       "3      smoker                        2   \n",
       "4         day                        4   \n",
       "5        time                        2   \n",
       "6        size                        6   \n",
       "\n",
       "                                       Unique Values  Number of Null Values  \\\n",
       "0  [16.99, 10.34, 21.01, 23.68, 24.59, 25.29, 8.7...                      0   \n",
       "1  [1.01, 1.66, 3.5, 3.31, 3.61, 4.71, 2.0, 3.12,...                      0   \n",
       "2  ['Female', 'Male']\n",
       "Categories (2, object): ['M...                      0   \n",
       "3  ['No', 'Yes']\n",
       "Categories (2, object): ['Yes', ...                      0   \n",
       "4  ['Sun', 'Sat', 'Thur', 'Fri']\n",
       "Categories (4, o...                      0   \n",
       "5  ['Dinner', 'Lunch']\n",
       "Categories (2, object): ['...                      0   \n",
       "6                                 [2, 3, 4, 1, 6, 5]                      0   \n",
       "\n",
       "   Proportion of Null Values     dtype  \n",
       "0                        0.0   float64  \n",
       "1                        0.0   float64  \n",
       "2                        0.0  category  \n",
       "3                        0.0  category  \n",
       "4                        0.0  category  \n",
       "5                        0.0  category  \n",
       "6                        0.0     int64  "
      ]
     },
     "execution_count": 3,
     "metadata": {},
     "output_type": "execute_result"
    }
   ],
   "source": [
    "tips = sns.load_dataset(\"tips\")\n",
    "\n",
    "check_columns(tips)"
   ]
  },
  {
   "cell_type": "markdown",
   "metadata": {},
   "source": [
    "### 1a. \n",
    " \n",
    "Create a column named price_per_person. This should be the total bill divided by the party size.\n",
    "\n"
   ]
  },
  {
   "cell_type": "code",
   "execution_count": 4,
   "metadata": {},
   "outputs": [],
   "source": [
    "tips[\"price_per_person\"] = tips[\"total_bill\"] / tips[\"size\"]\n",
    "\n",
    "tips[\"price_per_person\"] = tips[\"price_per_person\"].round(2)"
   ]
  },
  {
   "cell_type": "code",
   "execution_count": 5,
   "metadata": {},
   "outputs": [
    {
     "name": "stderr",
     "output_type": "stream",
     "text": [
      "/opt/homebrew/anaconda3/lib/python3.11/site-packages/sklearn/preprocessing/_encoders.py:868: FutureWarning: `sparse` was renamed to `sparse_output` in version 1.2 and will be removed in 1.4. `sparse_output` is ignored unless you leave `sparse` to its default value.\n",
      "  warnings.warn(\n"
     ]
    }
   ],
   "source": [
    "# encode the categorical\n",
    "\n",
    "# create an instance of the OneHotEncoder\n",
    "encoder = OneHotEncoder(sparse=False)\n",
    "\n",
    "# fit the encoder to the categorical variables in the dataframe\n",
    "encoder.fit(tips[[\"sex\", \"smoker\", \"day\", \"time\"]])\n",
    "\n",
    "# transform the categorical variables into one-hot encoded features\n",
    "one_hot_encoded = encoder.transform(tips[[\"sex\", \"smoker\", \"day\", \"time\"]])\n",
    "\n",
    "# create a new dataframe with the one-hot encoded features\n",
    "one_hot_df = pd.DataFrame(\n",
    "    one_hot_encoded,\n",
    "    columns=encoder.get_feature_names_out([\"sex\", \"smoker\", \"day\", \"time\"]),\n",
    ")\n",
    "\n",
    "# concatenate the original dataframe with the one-hot encoded dataframe\n",
    "tips = pd.concat([tips, one_hot_df], axis=1)\n",
    "\n",
    "# drop the original categorical columns\n",
    "tips.drop([\"sex\", \"smoker\", \"day\", \"time\"], axis=1, inplace=True)"
   ]
  },
  {
   "cell_type": "code",
   "execution_count": 6,
   "metadata": {},
   "outputs": [],
   "source": [
    "X_tips = tips.drop(columns=[\"tip\"])\n",
    "y_tips = tips[\"tip\"]"
   ]
  },
  {
   "cell_type": "code",
   "execution_count": 7,
   "metadata": {},
   "outputs": [],
   "source": [
    "# Scale total_bill and price_per_person using StandardScaler\n",
    "\n",
    "cols = [\"total_bill\", \"price_per_person\"]\n",
    "\n",
    "X_tips = standard_scaler(X_tips, cols)"
   ]
  },
  {
   "cell_type": "markdown",
   "metadata": {},
   "source": [
    "### 1b.\n",
    "\n",
    "Before using any of the methods discussed in the lesson, which features do you think would be most important for predicting the tip amount?\n",
    "\n"
   ]
  },
  {
   "cell_type": "markdown",
   "metadata": {},
   "source": [
    "*I think size and total_bill will be most important, due to directly increasing the tip based on percentages.*\n",
    "\n",
    "*I also think time and day will be important due to dinner typically being a larger meal and people typically going out for dinner on weekends.*"
   ]
  },
  {
   "cell_type": "markdown",
   "metadata": {},
   "source": [
    "### 1c. \n",
    "\n",
    "Use Select K Best to select the top 2 features for predicting tip amount. What are they?\n",
    "\n"
   ]
  },
  {
   "cell_type": "code",
   "execution_count": 8,
   "metadata": {},
   "outputs": [
    {
     "data": {
      "text/plain": [
       "['total_bill', 'size']"
      ]
     },
     "execution_count": 8,
     "metadata": {},
     "output_type": "execute_result"
    }
   ],
   "source": [
    "from sklearn.feature_selection import SelectKBest, f_regression\n",
    "\n",
    "# parameters: f_regression stats test, give me 2 features\n",
    "f_selector = SelectKBest(f_regression, k=2)\n",
    "\n",
    "# find the top 8 X's correlated with y\n",
    "f_selector.fit(X_tips, y_tips)\n",
    "\n",
    "# boolean mask of whether the column was selected or not.\n",
    "feature_mask = f_selector.get_support()\n",
    "\n",
    "# get list of top K features.\n",
    "f_feature = X_tips.iloc[:, feature_mask].columns.tolist()\n",
    "\n",
    "f_feature"
   ]
  },
  {
   "cell_type": "markdown",
   "metadata": {},
   "source": [
    "### 1d. \n",
    "\n",
    "Use Recursive Feature Elimination to select the top 2 features for tip amount. What are they?\n",
    "\n"
   ]
  },
  {
   "cell_type": "code",
   "execution_count": 9,
   "metadata": {},
   "outputs": [
    {
     "data": {
      "text/plain": [
       "['total_bill', 'price_per_person']"
      ]
     },
     "execution_count": 9,
     "metadata": {},
     "output_type": "execute_result"
    }
   ],
   "source": [
    "# initialize the ML algorithm\n",
    "lm = LinearRegression()\n",
    "\n",
    "# create the rfe object, indicating the ML object (lm) and the number of features I want to end up with.\n",
    "rfe = RFE(lm, n_features_to_select=2)\n",
    "\n",
    "# fit the data using RFE\n",
    "rfe.fit(X_tips, y_tips)\n",
    "\n",
    "# get the mask of the columns selected\n",
    "feature_mask = rfe.support_\n",
    "\n",
    "# get list of the column names.\n",
    "rfe_feature = X_tips.iloc[:, feature_mask].columns.tolist()\n",
    "\n",
    "rfe_feature"
   ]
  },
  {
   "cell_type": "code",
   "execution_count": 10,
   "metadata": {},
   "outputs": [
    {
     "data": {
      "text/plain": [
       "['total_bill',\n",
       " 'size',\n",
       " 'price_per_person',\n",
       " 'smoker_No',\n",
       " 'smoker_Yes',\n",
       " 'day_Fri',\n",
       " 'day_Sat',\n",
       " 'day_Sun',\n",
       " 'day_Thur',\n",
       " 'time_Lunch']"
      ]
     },
     "execution_count": 10,
     "metadata": {},
     "output_type": "execute_result"
    }
   ],
   "source": [
    "# create the rfe object, indicating the ML object (lm) and the number of features I want to end up with.\n",
    "rfe = RFE(lm, n_features_to_select=10)\n",
    "\n",
    "# fit the data using RFE\n",
    "rfe.fit(X_tips, y_tips)\n",
    "\n",
    "# get the mask of the columns selected\n",
    "feature_mask = rfe.support_\n",
    "\n",
    "# get list of the column names.\n",
    "rfe_feature = X_tips.iloc[:, feature_mask].columns.tolist()\n",
    "\n",
    "rfe_feature"
   ]
  },
  {
   "cell_type": "markdown",
   "metadata": {},
   "source": [
    "### 1e.\n",
    "\n",
    "Why do you think Select K Best and Recursive Feature Elimination might give different answers for the top features? Does this change as you change the number of features you are selecting?"
   ]
  },
  {
   "cell_type": "markdown",
   "metadata": {},
   "source": [
    "**`SelectKBest` might select features that have high individual scores but low importance when combined with other features**\n",
    "\n",
    "**`RFE` might select features that have lower individual scores but higher importance when combined with other features.**\n",
    "\n",
    "---\n",
    "\n",
    "`SelectKBest` selects the top k features based on a univariate statistical test, such as the F-test or mutual information. It evaluates each feature independently and selects the k features with the highest scores.\n",
    "\n",
    "`RFE` selects the top n features by recursively eliminating the least important features based on their coefficients or feature importance scores. It evaluates the features in a nested manner and selects the n features that contribute the most to the model's performance."
   ]
  },
  {
   "cell_type": "markdown",
   "metadata": {},
   "source": [
    "## 2.\n",
    "\n",
    "Write a function named select_kbest that takes in the predictors (X), the target (y), and the number of features to select (k) and returns the names of the top k selected features based on the SelectKBest class. Test your function with the tips dataset. You should see the same results as when you did the process manually."
   ]
  },
  {
   "cell_type": "code",
   "execution_count": 11,
   "metadata": {},
   "outputs": [],
   "source": [
    "from sklearn.feature_selection import SelectKBest, f_regression\n",
    "\n",
    "\n",
    "def select_kbest(X, y, k):\n",
    "    \"\"\"\n",
    "    Selects the top k features based on the SelectKBest class and a univariate statistical test.\n",
    "    Returns the names of the top k selected features.\n",
    "    \"\"\"\n",
    "    # create an instance of the SelectKBest class\n",
    "    selector = SelectKBest(score_func=f_regression, k=k)\n",
    "\n",
    "    # fit the selector to the predictors and target\n",
    "    selector.fit(X, y)\n",
    "\n",
    "    # get the indices of the top k selected features\n",
    "    top_k_indices = selector.get_support(indices=True)\n",
    "\n",
    "    # get the names of the top k selected features\n",
    "    top_k_features = X.columns[top_k_indices].tolist()\n",
    "\n",
    "    return top_k_features"
   ]
  },
  {
   "cell_type": "markdown",
   "metadata": {},
   "source": [
    "## 3.\n",
    "\n",
    "Write a function named rfe that takes in the predictors, the target, and the number of features to select. It should return the top n features based on the RFE class. Test your function with the tips dataset. You should see the same results as when you did the process manually."
   ]
  },
  {
   "cell_type": "code",
   "execution_count": 12,
   "metadata": {},
   "outputs": [],
   "source": [
    "def rfe(X, y, n):\n",
    "    \"\"\"\n",
    "    Selects the top n features based on the RFE class and a linear regression model.\n",
    "    Returns the names of the top n selected features.\n",
    "    \"\"\"\n",
    "    # create an instance of the RFE class\n",
    "    estimator = LinearRegression()\n",
    "    selector = RFE(estimator, n_features_to_select=n)\n",
    "\n",
    "    # fit the selector to the predictors and target\n",
    "    selector.fit(X, y)\n",
    "\n",
    "    # get the indices of the top n selected features\n",
    "    top_n_indices = selector.get_support(indices=True)\n",
    "\n",
    "    # get the names of the top n selected features\n",
    "    top_n_features = X.columns[top_n_indices].tolist()\n",
    "\n",
    "    return top_n_features"
   ]
  },
  {
   "cell_type": "markdown",
   "metadata": {},
   "source": [
    "## 4.\n",
    "\n",
    "Load the swiss dataset and use all the other features to predict Fertility. Find the top 3 features using both Select K Best and Recursive Feature Elimination (use the functions you just built to help you out)."
   ]
  },
  {
   "cell_type": "code",
   "execution_count": 24,
   "metadata": {},
   "outputs": [],
   "source": [
    "# Load swiss dataset\n",
    "\n",
    "from pydataset import data\n",
    "\n",
    "swiss = data(\"swiss\")"
   ]
  },
  {
   "cell_type": "code",
   "execution_count": 25,
   "metadata": {},
   "outputs": [
    {
     "data": {
      "text/html": [
       "<div>\n",
       "<style scoped>\n",
       "    .dataframe tbody tr th:only-of-type {\n",
       "        vertical-align: middle;\n",
       "    }\n",
       "\n",
       "    .dataframe tbody tr th {\n",
       "        vertical-align: top;\n",
       "    }\n",
       "\n",
       "    .dataframe thead th {\n",
       "        text-align: right;\n",
       "    }\n",
       "</style>\n",
       "<table border=\"1\" class=\"dataframe\">\n",
       "  <thead>\n",
       "    <tr style=\"text-align: right;\">\n",
       "      <th></th>\n",
       "      <th>Column Name</th>\n",
       "      <th>Number of Unique Values</th>\n",
       "      <th>Unique Values</th>\n",
       "      <th>Number of Null Values</th>\n",
       "      <th>Proportion of Null Values</th>\n",
       "      <th>dtype</th>\n",
       "    </tr>\n",
       "  </thead>\n",
       "  <tbody>\n",
       "    <tr>\n",
       "      <th>0</th>\n",
       "      <td>Fertility</td>\n",
       "      <td>46</td>\n",
       "      <td>[80.2, 83.1, 92.5, 85.8, 76.9, 76.1, 83.8, 92.4, 82.4, 82.9, 87.1, 64.1, 66.9, 68.9, 6...</td>\n",
       "      <td>0</td>\n",
       "      <td>0.0</td>\n",
       "      <td>float64</td>\n",
       "    </tr>\n",
       "    <tr>\n",
       "      <th>1</th>\n",
       "      <td>Agriculture</td>\n",
       "      <td>47</td>\n",
       "      <td>[17.0, 45.1, 39.7, 36.5, 43.5, 35.3, 70.2, 67.8, 53.3, 45.2, 64.5, 62.0, 67.5, 60.7, 6...</td>\n",
       "      <td>0</td>\n",
       "      <td>0.0</td>\n",
       "      <td>float64</td>\n",
       "    </tr>\n",
       "    <tr>\n",
       "      <th>2</th>\n",
       "      <td>Examination</td>\n",
       "      <td>22</td>\n",
       "      <td>[15, 6, 5, 12, 17, 9, 16, 14, 21, 19, 22, 18, 26, 31, 20, 25, 3, 7, 13, 29, 35, 37]</td>\n",
       "      <td>0</td>\n",
       "      <td>0.0</td>\n",
       "      <td>int64</td>\n",
       "    </tr>\n",
       "    <tr>\n",
       "      <th>3</th>\n",
       "      <td>Education</td>\n",
       "      <td>19</td>\n",
       "      <td>[12, 9, 5, 7, 15, 8, 13, 6, 2, 28, 20, 10, 3, 1, 19, 11, 32, 53, 29]</td>\n",
       "      <td>0</td>\n",
       "      <td>0.0</td>\n",
       "      <td>int64</td>\n",
       "    </tr>\n",
       "    <tr>\n",
       "      <th>4</th>\n",
       "      <td>Catholic</td>\n",
       "      <td>46</td>\n",
       "      <td>[9.96, 84.84, 93.4, 33.77, 5.16, 90.57, 92.85, 97.16, 97.67, 91.38, 98.61, 8.52, 2.27,...</td>\n",
       "      <td>0</td>\n",
       "      <td>0.0</td>\n",
       "      <td>float64</td>\n",
       "    </tr>\n",
       "    <tr>\n",
       "      <th>5</th>\n",
       "      <td>Infant.Mortality</td>\n",
       "      <td>37</td>\n",
       "      <td>[22.2, 20.2, 20.3, 20.6, 26.6, 23.6, 24.9, 21.0, 24.4, 24.5, 16.5, 19.1, 22.7, 18.7, 2...</td>\n",
       "      <td>0</td>\n",
       "      <td>0.0</td>\n",
       "      <td>float64</td>\n",
       "    </tr>\n",
       "  </tbody>\n",
       "</table>\n",
       "</div>"
      ],
      "text/plain": [
       "        Column Name  Number of Unique Values  \\\n",
       "0         Fertility                       46   \n",
       "1       Agriculture                       47   \n",
       "2       Examination                       22   \n",
       "3         Education                       19   \n",
       "4          Catholic                       46   \n",
       "5  Infant.Mortality                       37   \n",
       "\n",
       "                                                                               Unique Values  \\\n",
       "0  [80.2, 83.1, 92.5, 85.8, 76.9, 76.1, 83.8, 92.4, 82.4, 82.9, 87.1, 64.1, 66.9, 68.9, 6...   \n",
       "1  [17.0, 45.1, 39.7, 36.5, 43.5, 35.3, 70.2, 67.8, 53.3, 45.2, 64.5, 62.0, 67.5, 60.7, 6...   \n",
       "2        [15, 6, 5, 12, 17, 9, 16, 14, 21, 19, 22, 18, 26, 31, 20, 25, 3, 7, 13, 29, 35, 37]   \n",
       "3                       [12, 9, 5, 7, 15, 8, 13, 6, 2, 28, 20, 10, 3, 1, 19, 11, 32, 53, 29]   \n",
       "4  [9.96, 84.84, 93.4, 33.77, 5.16, 90.57, 92.85, 97.16, 97.67, 91.38, 98.61, 8.52, 2.27,...   \n",
       "5  [22.2, 20.2, 20.3, 20.6, 26.6, 23.6, 24.9, 21.0, 24.4, 24.5, 16.5, 19.1, 22.7, 18.7, 2...   \n",
       "\n",
       "   Number of Null Values  Proportion of Null Values    dtype  \n",
       "0                      0                        0.0  float64  \n",
       "1                      0                        0.0  float64  \n",
       "2                      0                        0.0    int64  \n",
       "3                      0                        0.0    int64  \n",
       "4                      0                        0.0  float64  \n",
       "5                      0                        0.0  float64  "
      ]
     },
     "execution_count": 25,
     "metadata": {},
     "output_type": "execute_result"
    }
   ],
   "source": [
    "check_columns(swiss)"
   ]
  },
  {
   "cell_type": "code",
   "execution_count": 26,
   "metadata": {},
   "outputs": [],
   "source": [
    "X_swiss = swiss.drop(\"Fertility\", axis=1)\n",
    "y_swiss = swiss[\"Fertility\"]"
   ]
  },
  {
   "cell_type": "code",
   "execution_count": 27,
   "metadata": {},
   "outputs": [],
   "source": [
    "# Try unscaled, std scaled, min_max scaled\n",
    "\n",
    "cols = [\"Agriculture\", \"Examination\", \"Education\", \"Catholic\", \"Infant.Mortality\"]\n",
    "\n",
    "X_swiss_std = standard_scaler(X_swiss, cols)\n",
    "\n",
    "X_swiss_min_max = min_max_scaler(X_swiss, cols)"
   ]
  },
  {
   "cell_type": "markdown",
   "metadata": {},
   "source": [
    "#### No Scaling"
   ]
  },
  {
   "cell_type": "code",
   "execution_count": 28,
   "metadata": {},
   "outputs": [
    {
     "data": {
      "text/plain": [
       "['Examination', 'Education', 'Catholic']"
      ]
     },
     "execution_count": 28,
     "metadata": {},
     "output_type": "execute_result"
    }
   ],
   "source": [
    "select_kbest(X_swiss, y_swiss, 3)"
   ]
  },
  {
   "cell_type": "code",
   "execution_count": 29,
   "metadata": {},
   "outputs": [
    {
     "data": {
      "text/plain": [
       "['Agriculture', 'Education', 'Infant.Mortality']"
      ]
     },
     "execution_count": 29,
     "metadata": {},
     "output_type": "execute_result"
    }
   ],
   "source": [
    "rfe(X_swiss, y_swiss, 3)"
   ]
  },
  {
   "cell_type": "markdown",
   "metadata": {},
   "source": [
    "#### Standard Scaling"
   ]
  },
  {
   "cell_type": "code",
   "execution_count": 30,
   "metadata": {},
   "outputs": [
    {
     "data": {
      "text/plain": [
       "['Examination', 'Education', 'Catholic']"
      ]
     },
     "execution_count": 30,
     "metadata": {},
     "output_type": "execute_result"
    }
   ],
   "source": [
    "select_kbest(X_swiss_std, y_swiss, 3)"
   ]
  },
  {
   "cell_type": "code",
   "execution_count": 31,
   "metadata": {},
   "outputs": [
    {
     "data": {
      "text/plain": [
       "['Agriculture', 'Education', 'Infant.Mortality']"
      ]
     },
     "execution_count": 31,
     "metadata": {},
     "output_type": "execute_result"
    }
   ],
   "source": [
    "rfe(X_swiss_std, y_swiss, 3)"
   ]
  },
  {
   "cell_type": "markdown",
   "metadata": {},
   "source": [
    "#### Min Max Scaling"
   ]
  },
  {
   "cell_type": "code",
   "execution_count": 32,
   "metadata": {},
   "outputs": [
    {
     "data": {
      "text/plain": [
       "['Examination', 'Education', 'Catholic']"
      ]
     },
     "execution_count": 32,
     "metadata": {},
     "output_type": "execute_result"
    }
   ],
   "source": [
    "select_kbest(X_swiss_min_max, y_swiss, 3)"
   ]
  },
  {
   "cell_type": "code",
   "execution_count": 33,
   "metadata": {},
   "outputs": [
    {
     "data": {
      "text/plain": [
       "['Agriculture', 'Education', 'Infant.Mortality']"
      ]
     },
     "execution_count": 33,
     "metadata": {},
     "output_type": "execute_result"
    }
   ],
   "source": [
    "rfe(X_swiss_min_max, y_swiss, 3)"
   ]
  },
  {
   "cell_type": "markdown",
   "metadata": {},
   "source": [
    "# Notes"
   ]
  },
  {
   "cell_type": "markdown",
   "metadata": {},
   "source": []
  }
 ],
 "metadata": {
  "kernelspec": {
   "display_name": "base",
   "language": "python",
   "name": "python3"
  },
  "language_info": {
   "codemirror_mode": {
    "name": "ipython",
    "version": 3
   },
   "file_extension": ".py",
   "mimetype": "text/x-python",
   "name": "python",
   "nbconvert_exporter": "python",
   "pygments_lexer": "ipython3",
   "version": "3.11.4"
  },
  "orig_nbformat": 4
 },
 "nbformat": 4,
 "nbformat_minor": 2
}
