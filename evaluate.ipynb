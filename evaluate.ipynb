{
 "cells": [
  {
   "cell_type": "markdown",
   "metadata": {},
   "source": [
    "# Evaluation Exercises"
   ]
  },
  {
   "cell_type": "markdown",
   "metadata": {},
   "source": [
    "Do you work for this exercise in either a jupyter notebook named evaluate within your regression-exercises repository. By the end of this exercise you will also create a python script named evaluate, so the overall deliverables for this exercise are the python script and jupyter notebook both with the name evaluate within your regression-exercises repo."
   ]
  },
  {
   "cell_type": "markdown",
   "metadata": {},
   "source": [
    "\n",
    "### 1. \n",
    "\n",
    "**Load your zillow dataset.**\n"
   ]
  },
  {
   "cell_type": "code",
   "execution_count": 15,
   "metadata": {},
   "outputs": [],
   "source": [
    "import pandas as pd\n",
    "from wrangle import wrangle_zillow, check_columns\n",
    "from prepare import encode_county, encode_county, split_data, robust_scaler\n",
    "import seaborn as sns\n",
    "import matplotlib.pyplot as plt\n",
    "from sklearn.metrics import mean_squared_error, explained_variance_score, r2_score"
   ]
  },
  {
   "cell_type": "code",
   "execution_count": 3,
   "metadata": {},
   "outputs": [],
   "source": [
    "# Import and clean\n",
    "\n",
    "df = wrangle_zillow()"
   ]
  },
  {
   "cell_type": "code",
   "execution_count": 4,
   "metadata": {},
   "outputs": [],
   "source": [
    "# No exploration needed, encode county\n",
    "\n",
    "df = encode_county(df)"
   ]
  },
  {
   "cell_type": "code",
   "execution_count": 6,
   "metadata": {},
   "outputs": [
    {
     "name": "stdout",
     "output_type": "stream",
     "text": [
      "train: 1284141 (60% of 2140235)\n",
      "validate: 428047 (20% of 2140235)\n",
      "test: 428047 (20% of 2140235)\n"
     ]
    }
   ],
   "source": [
    "# Split before scaling data\n",
    " \n",
    "train, validate, test = split_data(df)"
   ]
  },
  {
   "cell_type": "code",
   "execution_count": 8,
   "metadata": {},
   "outputs": [],
   "source": [
    "# Scale needed values for modeling, in this case, we'll just robust scale them all.\n",
    "\n",
    "train = robust_scaler(train)\n",
    "validate = robust_scaler(validate)\n",
    "test = robust_scaler(test)"
   ]
  },
  {
   "cell_type": "markdown",
   "metadata": {},
   "source": [
    "\n",
    "### 2.\n",
    "\n",
    "**Fit a linear regression model (ordinary least squares) and compute yhat, predictions of `prop_value` using only `sqfeet`.**"
   ]
  },
  {
   "cell_type": "markdown",
   "metadata": {},
   "source": [
    "Modify and add to the code above as necessary for it to work with the zillow dataset.\n",
    "\n",
    "Here is some sample code to get you started:\n",
    "\n",
    "```python\n",
    "from sklearn.linear_model import LinearRegression\n",
    "\n",
    "# assuming X and y are already defined\n",
    "model = LinearRegression().fit(X, y)\n",
    "predictions = model.predict(X)\n",
    "```"
   ]
  },
  {
   "cell_type": "code",
   "execution_count": 9,
   "metadata": {},
   "outputs": [],
   "source": [
    "from sklearn.linear_model import LinearRegression\n",
    "\n",
    "df1 = train[['sqfeet','prop_value']]\n",
    "lr = LinearRegression().fit(df1[['sqfeet']],df1[['prop_value']])\n",
    "baseline = df1['prop_value'].copy().mean()\n",
    "df1 = df1.assign(yhat_bl=baseline)\n",
    "df1 = df1.assign(yhat=lr.predict(df1[['sqfeet']]))"
   ]
  },
  {
   "cell_type": "markdown",
   "metadata": {},
   "source": [
    "### 3. \n",
    "\n",
    "**Plot the residuals for the linear regression model that you made.**"
   ]
  },
  {
   "cell_type": "code",
   "execution_count": 10,
   "metadata": {},
   "outputs": [],
   "source": [
    "df1 = df1.assign(res_bl = (df1['yhat_bl'] - df1['prop_value']))\n",
    "df1 = df1.assign(res = (df1['yhat'] - df1['prop_value']))"
   ]
  },
  {
   "cell_type": "code",
   "execution_count": 13,
   "metadata": {},
   "outputs": [
    {
     "data": {
      "image/png": "[encoded data removed]",
      "text/plain": [
       "<Figure size 640x480 with 1 Axes>"
      ]
     },
     "metadata": {},
     "output_type": "display_data"
    }
   ],
   "source": [
    "sns.scatterplot(data=df1,x='sqfeet',y='res')\n",
    "plt.axhline(0)\n",
    "sns.scatterplot(data=df1,x='sqfeet',y='res_bl')\n",
    "plt.legend(loc='upper left',labels=['res','0','res_bl'])\n",
    "plt.show()"
   ]
  },
  {
   "cell_type": "markdown",
   "metadata": {},
   "source": [
    "\n",
    "### 4. \n",
    "\n",
    "**Calculate the sum of squared errors, explained sum of squares, total sum of squares, mean squared error, and root mean squared error for your model.**\n"
   ]
  },
  {
   "cell_type": "code",
   "execution_count": 16,
   "metadata": {},
   "outputs": [
    {
     "name": "stdout",
     "output_type": "stream",
     "text": [
      "SSE =  3.18618251853696\n",
      "MSE =  4091507.6055365703\n",
      "RMSE =  1.784988100390857\n",
      "ESS =  950017.7892181757\n",
      "TSS =  5041525.394754746\n"
     ]
    }
   ],
   "source": [
    "# SSE, ESS, TSS, MSE, RMSE\n",
    "\n",
    "MSE = mean_squared_error(df1.prop_value,df1.yhat)\n",
    "SSE = MSE*len(df1)\n",
    "RMSE = MSE**.5\n",
    "ESS = sum((df1.yhat - baseline)**2)\n",
    "TSS = ESS + SSE\n",
    "print(\"SSE = \", MSE)\n",
    "print(\"MSE = \", SSE)\n",
    "print(\"RMSE = \", RMSE)\n",
    "print(\"ESS = \", ESS)\n",
    "print(\"TSS = \", TSS)"
   ]
  },
  {
   "cell_type": "markdown",
   "metadata": {},
   "source": [
    "\n",
    "### 5. \n",
    "\n",
    "**Calculate the sum of squared errors, mean squared error, and root mean squared error for the baseline model (i.e. a model that always predicts the average taxvaluedollarcnt amount).**\n"
   ]
  },
  {
   "cell_type": "code",
   "execution_count": 17,
   "metadata": {},
   "outputs": [
    {
     "name": "stdout",
     "output_type": "stream",
     "text": [
      "SSE_bl =  5041525.394753288\n",
      "MSE_bl =  3.9259905218767157\n",
      "RMSE_bl =  1.9814112450162171\n"
     ]
    }
   ],
   "source": [
    "# SSE, MSE, RMSE\n",
    "\n",
    "MSE_bl = mean_squared_error(df1.prop_value,df1.yhat_bl)\n",
    "SSE_bl = MSE_bl*len(df1)\n",
    "RMSE_bl = MSE_bl**.5\n",
    "print(\"SSE_bl = \", SSE_bl)\n",
    "print(\"MSE_bl = \", MSE_bl)\n",
    "print(\"RMSE_bl = \", RMSE_bl)"
   ]
  },
  {
   "cell_type": "markdown",
   "metadata": {},
   "source": [
    "\n",
    "### 6. \n",
    "\n",
    "**Write python code that compares the sum of squared errors for your model against the sum of squared errors for the baseline model and outputs whether or not your model performs better than the baseline model.**\n"
   ]
  },
  {
   "cell_type": "code",
   "execution_count": 18,
   "metadata": {},
   "outputs": [
    {
     "data": {
      "text/html": [
       "<div>\n",
       "<style scoped>\n",
       "    .dataframe tbody tr th:only-of-type {\n",
       "        vertical-align: middle;\n",
       "    }\n",
       "\n",
       "    .dataframe tbody tr th {\n",
       "        vertical-align: top;\n",
       "    }\n",
       "\n",
       "    .dataframe thead th {\n",
       "        text-align: right;\n",
       "    }\n",
       "</style>\n",
       "<table border=\"1\" class=\"dataframe\">\n",
       "  <thead>\n",
       "    <tr style=\"text-align: right;\">\n",
       "      <th></th>\n",
       "      <th>metric</th>\n",
       "      <th>error</th>\n",
       "      <th>bl</th>\n",
       "      <th>delta</th>\n",
       "      <th>better</th>\n",
       "    </tr>\n",
       "  </thead>\n",
       "  <tbody>\n",
       "    <tr>\n",
       "      <th>0</th>\n",
       "      <td>SSE</td>\n",
       "      <td>4.091508e+06</td>\n",
       "      <td>5.041525e+06</td>\n",
       "      <td>-950017.789217</td>\n",
       "      <td>True</td>\n",
       "    </tr>\n",
       "    <tr>\n",
       "      <th>1</th>\n",
       "      <td>MSE</td>\n",
       "      <td>3.186183e+00</td>\n",
       "      <td>3.925991e+00</td>\n",
       "      <td>-0.739808</td>\n",
       "      <td>True</td>\n",
       "    </tr>\n",
       "    <tr>\n",
       "      <th>2</th>\n",
       "      <td>RMSE</td>\n",
       "      <td>1.784988e+00</td>\n",
       "      <td>1.981411e+00</td>\n",
       "      <td>-0.196423</td>\n",
       "      <td>True</td>\n",
       "    </tr>\n",
       "  </tbody>\n",
       "</table>\n",
       "</div>"
      ],
      "text/plain": [
       "  metric         error            bl          delta  better\n",
       "0    SSE  4.091508e+06  5.041525e+06 -950017.789217    True\n",
       "1    MSE  3.186183e+00  3.925991e+00      -0.739808    True\n",
       "2   RMSE  1.784988e+00  1.981411e+00      -0.196423    True"
      ]
     },
     "execution_count": 18,
     "metadata": {},
     "output_type": "execute_result"
    }
   ],
   "source": [
    "metrics = pd.DataFrame({'metric':['SSE','MSE','RMSE']\n",
    "                        ,'error':[SSE,MSE,RMSE]\n",
    "                        ,'bl':[SSE_bl,MSE_bl,RMSE_bl]})\n",
    "metrics = metrics.assign(delta=(metrics.error - metrics.bl))\n",
    "metrics = metrics.assign(better=(metrics.delta<0))\n",
    "metrics"
   ]
  },
  {
   "cell_type": "markdown",
   "metadata": {},
   "source": [
    "\n",
    "### 7. \n",
    "\n",
    "**What is the amount of variance explained in your model?**\n"
   ]
  },
  {
   "cell_type": "code",
   "execution_count": 19,
   "metadata": {},
   "outputs": [
    {
     "name": "stdout",
     "output_type": "stream",
     "text": [
      "Variance =  0.188\n"
     ]
    }
   ],
   "source": [
    "evs = explained_variance_score(df1.prop_value,df1.yhat)\n",
    "print('Variance = ', round(evs,3))"
   ]
  },
  {
   "cell_type": "markdown",
   "metadata": {},
   "source": [
    "\n",
    "### 8. \n",
    "\n",
    "**Is your model better than the baseline model?**"
   ]
  },
  {
   "cell_type": "code",
   "execution_count": 22,
   "metadata": {},
   "outputs": [],
   "source": [
    "df2 = validate[['sqfeet','prop_value']]\n",
    "df2 = df2.assign(yhat_bl=baseline)\n",
    "df2 = df2.assign(yhat=lr.predict(df2[['sqfeet']]))\n",
    "\n",
    "df3 = validate[['sqfeet','prop_value']]\n",
    "df3 = df3.assign(yhat_bl=baseline)\n",
    "df3 = df3.assign(yhat=lr.predict(df3[['sqfeet']]))"
   ]
  },
  {
   "cell_type": "code",
   "execution_count": 23,
   "metadata": {},
   "outputs": [
    {
     "name": "stdout",
     "output_type": "stream",
     "text": [
      "Train Model SSE better than baseline:  True\n",
      "Train Model MSE better than baseline:  True\n",
      "Train Model RMSE better than baseline:  True\n",
      "Validate Model SSE better than baseline:  True\n",
      "Validate Model MSE better than baseline:  True\n",
      "Validate Model RMSE better than baseline:  True\n",
      "Test Model SSE better than baseline:  True\n",
      "Test Model MSE better than baseline:  True\n",
      "Test Model RMSE better than baseline:  True\n"
     ]
    }
   ],
   "source": [
    "y='prop_value'\n",
    "yhat='yhat'\n",
    "tr_MSE = mean_squared_error(df1[y],df1[yhat])\n",
    "tr_SSE = tr_MSE*len(df1)\n",
    "tr_RMSE = tr_MSE**.5\n",
    "tr_MSE_bl = mean_squared_error(df1[y],df1[yhat])\n",
    "tr_SSE_bl = tr_MSE_bl*len(df1)\n",
    "tr_RMSE_bl = tr_MSE_bl**.5\n",
    "print('Train Model SSE better than baseline: ',tr_SSE - tr_SSE_bl < 1)\n",
    "print('Train Model MSE better than baseline: ',tr_MSE - tr_MSE_bl < 1)\n",
    "print('Train Model RMSE better than baseline: ',tr_RMSE - tr_RMSE_bl < 1)\n",
    "v_MSE = mean_squared_error(df2[y],df2[yhat])\n",
    "v_SSE = v_MSE*len(df2)\n",
    "v_RMSE = v_MSE**.5\n",
    "v_MSE_bl = mean_squared_error(df2[y],df2[yhat])\n",
    "v_SSE_bl = v_MSE_bl*len(df2)\n",
    "v_RMSE_bl = v_MSE_bl**.5\n",
    "print('Validate Model SSE better than baseline: ',v_SSE - v_SSE_bl < 1)\n",
    "print('Validate Model MSE better than baseline: ',v_MSE - v_MSE_bl < 1)\n",
    "print('Validate Model RMSE better than baseline: ',v_RMSE - v_RMSE_bl < 1)\n",
    "t_MSE = mean_squared_error(df3[y],df3[yhat])\n",
    "t_SSE = t_MSE*len(df3)\n",
    "t_RMSE = t_MSE**.5\n",
    "t_MSE_bl = mean_squared_error(df3[y],df3[yhat])\n",
    "t_SSE_bl = t_MSE_bl*len(df3)\n",
    "t_RMSE_bl = t_MSE_bl**.5\n",
    "print('Test Model SSE better than baseline: ',t_SSE - t_SSE_bl < 1)\n",
    "print('Test Model MSE better than baseline: ',t_MSE - t_MSE_bl < 1)\n",
    "print('Test Model RMSE better than baseline: ',t_RMSE - t_RMSE_bl < 1)"
   ]
  },
  {
   "cell_type": "code",
   "execution_count": 28,
   "metadata": {},
   "outputs": [
    {
     "data": {
      "text/html": [
       "<div>\n",
       "<style scoped>\n",
       "    .dataframe tbody tr th:only-of-type {\n",
       "        vertical-align: middle;\n",
       "    }\n",
       "\n",
       "    .dataframe tbody tr th {\n",
       "        vertical-align: top;\n",
       "    }\n",
       "\n",
       "    .dataframe thead th {\n",
       "        text-align: right;\n",
       "    }\n",
       "</style>\n",
       "<table border=\"1\" class=\"dataframe\">\n",
       "  <thead>\n",
       "    <tr style=\"text-align: right;\">\n",
       "      <th></th>\n",
       "      <th>0</th>\n",
       "      <th>1</th>\n",
       "      <th>2</th>\n",
       "      <th>3</th>\n",
       "      <th>4</th>\n",
       "    </tr>\n",
       "  </thead>\n",
       "  <tbody>\n",
       "    <tr>\n",
       "      <th>0</th>\n",
       "      <td>slope</td>\n",
       "      <td>intercept</td>\n",
       "      <td>r</td>\n",
       "      <td>p</td>\n",
       "      <td>se</td>\n",
       "    </tr>\n",
       "    <tr>\n",
       "      <th>1</th>\n",
       "      <td>0.598351</td>\n",
       "      <td>0.231618</td>\n",
       "      <td>0.434095</td>\n",
       "      <td>0.0</td>\n",
       "      <td>0.001096</td>\n",
       "    </tr>\n",
       "  </tbody>\n",
       "</table>\n",
       "</div>"
      ],
      "text/plain": [
       "          0          1         2    3         4\n",
       "0     slope  intercept         r    p        se\n",
       "1  0.598351   0.231618  0.434095  0.0  0.001096"
      ]
     },
     "execution_count": 28,
     "metadata": {},
     "output_type": "execute_result"
    }
   ],
   "source": [
    "import scipy.stats as stats\n",
    "\n",
    "slope, intercept, r, p, se = stats.linregress(df1['sqfeet'],df1['prop_value'])\n",
    "sts = pd.DataFrame([['slope', 'intercept', 'r', 'p', 'se'],[slope, intercept, r, p, se]])\n",
    "sts"
   ]
  },
  {
   "cell_type": "markdown",
   "metadata": {},
   "source": [
    "### 9. \n",
    "\n",
    "**Create a file named evaluate.py that contains the following functions.**\n"
   ]
  },
  {
   "cell_type": "markdown",
   "metadata": {},
   "source": [
    "\n",
    "- plot_residuals(y, yhat): creates a residual plot\n",
    "- regression_errors(y, yhat): returns the following values:\n",
    "- sum of squared errors (SSE)\n",
    "- explained sum of squares (ESS)\n",
    "- total sum of squares (TSS)\n",
    "- mean squared error (MSE)\n",
    "- root mean squared error (RMSE)\n",
    "- baseline_mean_errors(y): computes the SSE, MSE, and RMSE for the baseline model\n",
    "- better_than_baseline(y, yhat): returns true if your model performs better than the baseline, otherwise false"
   ]
  }
 ],
 "metadata": {
  "kernelspec": {
   "display_name": "base",
   "language": "python",
   "name": "python3"
  },
  "language_info": {
   "codemirror_mode": {
    "name": "ipython",
    "version": 3
   },
   "file_extension": ".py",
   "mimetype": "text/x-python",
   "name": "python",
   "nbconvert_exporter": "python",
   "pygments_lexer": "ipython3",
   "version": "3.11.4"
  },
  "orig_nbformat": 4
 },
 "nbformat": 4,
 "nbformat_minor": 2
}
